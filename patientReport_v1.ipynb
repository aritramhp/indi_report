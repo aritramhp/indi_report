{
 "cells": [
  {
   "cell_type": "markdown",
   "metadata": {},
   "source": [
    "# Prepare a Report for an individual patient"
   ]
  },
  {
   "cell_type": "markdown",
   "metadata": {},
   "source": [
    "> Environment setup\n",
    ">> Install anaconda and follow the steps in Anaconda Prompt:\n",
    ">> - `conda create --name indi_report --file requirements.txt`\n",
    ">> - `conda activate indi_report`\n",
    ">> - `python -m ipykernel install --user --name=indi_report`"
   ]
  },
  {
   "cell_type": "markdown",
   "metadata": {},
   "source": [
    "> Reference DB\n",
    ">> Execute IMNGS2 / NGSToolkit on the reference samples: KORA-Healthy, KORA-Obese, and Student cohort -> Generate zOTU table\n",
    ">>\n",
    ">> Execute Rhea:\n",
    ">> - Normalization, Alpha diverisity, and Taxonomy binning on KORA-Healthy, KORA-Obese, and Students cohort\n",
    ">> - Beta diversity on KORA-Healthy and Students cohort"
   ]
  },
  {
   "cell_type": "markdown",
   "metadata": {},
   "source": [
    "> Steps to follow,\n",
    "> 1) Run IMNGS2 / NGSToolkit on the samples  -> Generate zOTU table\n",
    "> 2) Run Rhea -- Alpha diversity, Taxonomy binning\n",
    "> 2) Keep the the following files the input directory,\n",
    ">> - alpha-diversity.tab\n",
    ">> - 1.Phyla.all.tab\n",
    ">> - 5.Genera.all.tab\n",
    "> 3) Store the metafile in the input directory\n",
    "> 4) Execute the following codes"
   ]
  },
  {
   "cell_type": "markdown",
   "metadata": {},
   "source": [
    "# Importing"
   ]
  },
  {
   "cell_type": "code",
   "execution_count": 1,
   "metadata": {},
   "outputs": [],
   "source": [
    "# %matplotlib inline      # show inline plot\n",
    "import os\n",
    "import pandas as pd\n",
    "# import random\n",
    "import numpy as np \n",
    "import matplotlib\n",
    "matplotlib.use('Agg')   # restrict showing inline plots \n",
    "import matplotlib.pyplot as plt \n",
    "from scipy.stats import norm\n",
    "# import statistics \n",
    "import seaborn as sns\n",
    "import os\n",
    "import pickle\n",
    "from fpdf import FPDF\n",
    "from datetime import date\n",
    "from datetime import datetime\n",
    "from fpdf.fonts import FontFace\n",
    "from PIL import Image"
   ]
  },
  {
   "cell_type": "markdown",
   "metadata": {},
   "source": [
    "# Set inputs"
   ]
  },
  {
   "cell_type": "code",
   "execution_count": 2,
   "metadata": {},
   "outputs": [],
   "source": [
    "# set input directory\n",
    "input_dir = 'test_data'\n",
    "zotu_table = os.path.join(input_dir,'ZOTUs-Table.tab')\n",
    "# this is a tab-separated file with six columns -- \"OrderNumber\", \"SampleName\", \"Age\", \"SampleType\", \"SamplingDate\", \"Screening-ID\"\n",
    "# OrderNumber: \n",
    "# SampleName: Name of the samples\n",
    "# Age: Number\n",
    "# SampleType: Usually \"Stool\"\n",
    "# SamplingDate: dd.mm.yy format\n",
    "# Screening-ID: \n",
    "info_file = os.path.join(input_dir,'info_HH.tab')\n"
   ]
  },
  {
   "cell_type": "markdown",
   "metadata": {},
   "source": [
    "## Check ref database"
   ]
  },
  {
   "cell_type": "code",
   "execution_count": 3,
   "metadata": {},
   "outputs": [
    {
     "name": "stdout",
     "output_type": "stream",
     "text": [
      "No. of KORA samples: 1562\n",
      "No. of Student samples: 295\n"
     ]
    }
   ],
   "source": [
    "# this is a tab-separated file with two columns -- \"former_name\" and \"Genus\"\n",
    "# this file contains mapping between unknown GOTUs with a name\n",
    "# Don't change the name ('gotu_names.tab')\n",
    "gotu_names = os.path.join(input_dir,'gotu_names.tab')\n",
    "\n",
    "# Set reference directory\n",
    "ref_db = 'ref_db'\n",
    "ref_alpha = os.path.join(ref_db, 'alpha-diversity.tab')\n",
    "ref_phyla = os.path.join(ref_db, '1.Phyla.all.tab')\n",
    "ref_genera = os.path.join(ref_db, '5.Genera.all.tab')\n",
    "ref_func = os.path.join(ref_db, 'genera_func_2_languages_2024-07-11.txt')      # Save the tab file in UTF-16 unicode\n",
    "ref_clade = os.path.join(ref_db,'clade.tab')\n",
    "df_alpha = pd.read_csv(ref_alpha,sep='\\t').set_index('Unnamed: 0')\n",
    "df_phyla = pd.read_csv(ref_phyla,sep='\\t').set_index('Unnamed: 0')\n",
    "df_genera = pd.read_csv(ref_genera,sep='\\t').set_index('Unnamed: 0')\n",
    "assert set(df_alpha.index.to_list()) == set(df_phyla.columns.to_list()), 'Sample mismatch found in alpha diversity and phyla'\n",
    "assert set(df_alpha.index.to_list()) == set(df_genera.columns.to_list()), 'Sample mismatch found in alpha diversity and genera'\n",
    "assert set(df_phyla.columns.to_list()) == set(df_genera.columns.to_list()), 'Sample mismatch found in phyla and genera'\n",
    "kora_sample = [c for c in df_alpha.index.to_list() if c.startswith('KORA')]\n",
    "std_sample = [c for c in df_alpha.index.to_list() if c.startswith('std')]\n",
    "print('No. of KORA samples: {}\\nNo. of Student samples: {}'.format(len(kora_sample), len(std_sample)))\n"
   ]
  },
  {
   "cell_type": "markdown",
   "metadata": {},
   "source": [
    "## Consider the samples present in reference dataset\n"
   ]
  },
  {
   "cell_type": "code",
   "execution_count": 4,
   "metadata": {},
   "outputs": [
    {
     "name": "stdout",
     "output_type": "stream",
     "text": [
      "No. of diabetic: 123\n",
      "No. of obese: 1126\n",
      "No. of cancer: 128\n",
      "No. of healthy: 436\n",
      "No. of samples to analyze: 5\n",
      "Name of the samples: ['305-5-16641', '304-4-78826', '302-2-89334', '306-6-83608', '301-1-59020']\n",
      "healthyKORA + Student: 731\n"
     ]
    }
   ],
   "source": [
    "# KORA metadata: list of samples from each category\n",
    "kora_metadata =os.path.join('KORA_metadata','gesamt_2032020.xlsx')\n",
    "df_metadata = pd.read_excel(kora_metadata,sheet_name='Analysiert',engine='openpyxl').set_index('Aritra_sampleID')\n",
    "diabet = df_metadata[df_metadata['u3tglukfasta'] >= 125].index.to_list()\n",
    "obese = df_metadata[df_metadata['u3tbmi'] >= 25].index.to_list()\n",
    "cancer = df_metadata[df_metadata['lca_n_sf14'] != 0].index.to_list()\n",
    "healthy = set(df_metadata.index.to_list()).difference(set(diabet+obese+cancer))\n",
    "\n",
    "# KORA diabet \n",
    "kora_diabet = list(set(kora_sample).intersection(set(diabet)))\n",
    "print('No. of diabetic: {}'.format(len(kora_diabet)))\n",
    "# KORA obese\n",
    "kora_obese = list(set(kora_sample).intersection(set(obese)))\n",
    "print('No. of obese: {}'.format(len(kora_obese)))\n",
    "# KORA obese\n",
    "kora_cancer = list(set(kora_sample).intersection(set(cancer)))\n",
    "print('No. of cancer: {}'.format(len(kora_cancer)))\n",
    "# KORA healthy\n",
    "kora_healthy = list(set(kora_sample).intersection(set(healthy)))\n",
    "print('No. of healthy: {}'.format(len(kora_healthy)))\n",
    "\n",
    "# check if all the current samples are present\n",
    "df_current_sample = pd.read_csv(zotu_table,sep='\\t').set_index(['#Zotu','Taxonomy'])\n",
    "df_current_sample = df_current_sample.rename(columns = lambda x: x.split('_')[0].replace('-withoutSpikes',''))\n",
    "current_sample = [c for c in df_current_sample.columns if not c.startswith('KORA') and not c.startswith('std')]\n",
    "df_sampleinfo = pd.read_csv(info_file,sep='\\t',keep_default_na=False)\n",
    "# assert set(current_sample) == set(df_sampleinfo.SampleName.to_list()), 'Mismatch found in the samples provided with the metadata!'\n",
    "assert set(df_sampleinfo.SampleName.to_list()).issubset(set(current_sample)), 'Mismatch found in the samples provided with the metadata!'\n",
    "current_sample = df_sampleinfo.SampleName.to_list()\n",
    "print('No. of samples to analyze: {}'.format(len(current_sample)))\n",
    "print('Name of the samples: {}'.format(current_sample))\n",
    "print('healthyKORA + Student: {}'.format(len(kora_healthy+std_sample)))"
   ]
  },
  {
   "cell_type": "markdown",
   "metadata": {},
   "source": [
    "# Generate outputs"
   ]
  },
  {
   "cell_type": "markdown",
   "metadata": {},
   "source": [
    "## Merge Alpha diversity and Taxonomy binning of Current samples with the reference"
   ]
  },
  {
   "cell_type": "code",
   "execution_count": 5,
   "metadata": {},
   "outputs": [
    {
     "name": "stdout",
     "output_type": "stream",
     "text": [
      "Merged alpha diversity: test_data\\alpha-diversity_ref_current.tab\n",
      "Merged phyla: test_data\\1.Phyla.all_ref_current.tab\n",
      "Merged genera: test_data\\5.Genera.all_ref_current.tab\n"
     ]
    }
   ],
   "source": [
    "import functions\n",
    "alpha_div, tax_phyla, tax_genera = functions.merge_with_ref(ref_alpha,ref_phyla,ref_genera,input_dir)\n",
    "print('Merged alpha diversity: {}'.format(alpha_div))\n",
    "print('Merged phyla: {}'.format(tax_phyla))\n",
    "print('Merged genera: {}'.format(tax_genera))"
   ]
  },
  {
   "cell_type": "markdown",
   "metadata": {},
   "source": [
    "## Plot Alpha diversity"
   ]
  },
  {
   "cell_type": "code",
   "execution_count": 6,
   "metadata": {},
   "outputs": [
    {
     "name": "stdout",
     "output_type": "stream",
     "text": [
      "305-5-16641\n",
      "304-4-78826\n",
      "302-2-89334\n",
      "306-6-83608\n",
      "301-1-59020\n"
     ]
    }
   ],
   "source": [
    "import functions\n",
    "\n",
    "for sample in current_sample:            \n",
    "    quartile = functions.alpha_diversity(input_dir, sample, alpha_div, [('std',std_sample),('healthy',kora_healthy),('obese',kora_obese)],'Richness')\n",
    "    with open(os.path.join(input_dir,sample,'report_EN.txt'),'w') as fp_en, open(os.path.join(input_dir,sample,'report_DE.txt'),'w') as fp_de:\n",
    "        for c, p in quartile:\n",
    "            fp_en.write(c+':'+p+'\\n')\n",
    "            p_de = 'unteres Quartil' if p=='lower quartile' else 'höheres Quartil' if p=='upper quartile' else 'mittleres Quartil'\n",
    "            fp_de.write(c+':'+p_de+'\\n')\n",
    "    print(sample)\n",
    "    # break"
   ]
  },
  {
   "cell_type": "markdown",
   "metadata": {},
   "source": [
    "## Prepare iTOL annotation file \n",
    "> Next follow the steps below,\n",
    "> 1. Upload `individual_patient_report.nwk`\n",
    "> 2. Upload iTOL annotation files\n",
    "> 3. Change settings:\n",
    ">> - Basic: Labels --> Hide\n",
    ">> - Advanced: Tree scale box --> Hide\n",
    "> 4. Export: \n",
    ">> - Format: png\n",
    ">> - Resolution: 200 dpi\n",
    ">> - Export area: Full screen\n",
    ">> - File name: `sampletree`"
   ]
  },
  {
   "cell_type": "code",
   "execution_count": 7,
   "metadata": {},
   "outputs": [
    {
     "name": "stdout",
     "output_type": "stream",
     "text": [
      "305-5-16641\n",
      "304-4-78826\n",
      "302-2-89334\n",
      "306-6-83608\n",
      "301-1-59020\n"
     ]
    }
   ],
   "source": [
    "import functions\n",
    "\n",
    "# df_sampleinfo = pd.read_csv(info_file,sep='\\t')\n",
    "df_itol = df_sampleinfo.set_index('SampleName')\n",
    "abun_table = tax_phyla\n",
    "for sname in df_itol.index:\n",
    "    print(sname)\n",
    "    samplelist = kora_healthy + std_sample + [sname]\n",
    "    output_file = os.path.join(input_dir,sname,'itol1_branch.txt')\n",
    "    with open(output_file, 'w') as fp:\n",
    "        fp.write('TREE_COLORS\\nSEPARATOR COMMA\\nDATA\\nOROOT,clade,#000000,normal,3\\n')\n",
    "    output_file = os.path.join(input_dir,sname,'itol2_clade.txt')\n",
    "    functions.clade_strip(sname, ref_clade, output_file)\n",
    "    output_file = os.path.join(input_dir,sname,'itol3_phylum.txt')\n",
    "    functions.stacked_bar_itol(abun_table, sname, samplelist, output_file)\n",
    "    output_file = os.path.join(input_dir,sname,'itol4_marksample')\n",
    "    ref_sample = kora_healthy + std_sample\n",
    "    similar_sample = functions.mark_sample(sname,abun_table,ref_sample,output_file)\n",
    "    clade_data = pd.read_table(ref_clade, sep='\\t')\n",
    "    clade = clade_data[clade_data['sample']==similar_sample]['clade'].to_list()[0]\n",
    "    with open(os.path.join(input_dir,sname,'report_EN.txt'),'a') as fp_en, open(os.path.join(input_dir,sname,'report_DE.txt'),'a') as fp_de:\n",
    "        fp_en.write('cluster:'+str(clade)+'\\n')\n",
    "        fp_de.write('cluster:'+str(clade)+'\\n')\n",
    "        percentage = 11 if clade==1 else 39 if clade==2 else 12 if clade==3 else 38\n",
    "        fp_en.write('percentage:'+str(percentage)+'\\n')\n",
    "        fp_de.write('percentage:'+str(percentage)+'\\n')\n",
    "        distinct_genera = 'Prevotella-9' if clade==1 else 'Bacteroides' if clade==2 else 'Ruminococcaceae_UGC-002' if clade==3 else 'Ruminococcus'\n",
    "        fp_en.write('distinguish:'+distinct_genera+'\\n')\n",
    "        fp_de.write('distinguish:'+distinct_genera+'\\n')\n",
    "\n",
    "    # break\n"
   ]
  },
  {
   "cell_type": "markdown",
   "metadata": {},
   "source": [
    "## Phylum barplot"
   ]
  },
  {
   "cell_type": "code",
   "execution_count": 8,
   "metadata": {},
   "outputs": [
    {
     "name": "stdout",
     "output_type": "stream",
     "text": [
      "305-5-16641\n",
      "304-4-78826\n",
      "302-2-89334\n",
      "306-6-83608\n",
      "301-1-59020\n"
     ]
    }
   ],
   "source": [
    "import functions\n",
    "\n",
    "abun_table = tax_phyla\n",
    "abun_data = pd.read_table(abun_table, sep='\\t').set_index('Unnamed: 0')\n",
    "df_itol = df_sampleinfo.set_index('SampleName')\n",
    "colors = {'p__Actinobacteriota':'#f5e4ea','p__Bacteroidota':'#94ac7c','p__Firmicutes':'#847cb6','p__Fusobacteriota':'#a28145',\n",
    "          'p__Proteobacteria':'#e9c334','p__Verrucomicrobiota':'#7b98d1'}\n",
    "for sname in df_itol.index:\n",
    "    print(sname)\n",
    "    hlthy2 = list(set(abun_data.columns.to_list()).intersection(set(healthy)))\n",
    "    abun_data['avg_old'] = abun_data[hlthy2].mean(axis=1)\n",
    "    abun_data['avg_young'] = abun_data[std_sample].mean(axis=1)\n",
    "    df = abun_data[[sname,'avg_young','avg_old']]\n",
    "    df_barplot = df.loc[list(colors.keys()),:]\n",
    "    df_barplot = df_barplot.T\n",
    "    # Color\n",
    "    clr = [colors[i] if i in colors.keys() else '#bcbcbc' for i in df_barplot.columns]\n",
    "    # remove phylum tag from the names\n",
    "    df_barplot.columns = df_barplot.columns.str.replace(\"p__\", \"\")\n",
    "    # rename phylum with preferred name\n",
    "    df_barplot = df_barplot.rename(columns={'Firmicutes':'Bacillota'})\n",
    "    df_barplot = df_barplot.reindex(sorted(df_barplot.columns), axis=1)\n",
    "    df_barplot['Others'] = df.loc[list(set(df.index.to_list()).difference(set(list(colors.keys())))),:].sum(axis='index').to_list()\n",
    "    clr = clr+['#bcbcbc']\n",
    "    xticks = ['Sample','Healthy young','Healthy old']\n",
    "    ylabel = 'Relative abundance (%)'\n",
    "    figfile = os.path.join(input_dir, sname,'phylum_EN.jpg')\n",
    "    functions.stacked_bar_phylum(df_barplot,clr,xticks,ylabel,figfile)\n",
    "    df_barplot = df_barplot.rename(columns={'Others':'Andere'})\n",
    "    xticks = ['Probe','Gesund, jung','Gesund, alt']\n",
    "    ylabel = 'Relative Abundanz (%)'\n",
    "    figfile = os.path.join(input_dir, sname,'phylum_DE.jpg')\n",
    "    functions.stacked_bar_phylum(df_barplot,clr,xticks,ylabel,figfile)\n",
    "\n",
    "    # break"
   ]
  },
  {
   "cell_type": "markdown",
   "metadata": {},
   "source": [
    "## Boxplot: Bacillota/Bacteroidota"
   ]
  },
  {
   "cell_type": "code",
   "execution_count": 9,
   "metadata": {},
   "outputs": [
    {
     "name": "stdout",
     "output_type": "stream",
     "text": [
      "305-5-16641\n",
      "304-4-78826\n",
      "302-2-89334\n",
      "306-6-83608\n",
      "301-1-59020\n"
     ]
    }
   ],
   "source": [
    "import functions\n",
    "\n",
    "abun_table = tax_phyla\n",
    "abun_data = pd.read_table(abun_table, sep='\\t').set_index('Unnamed: 0')\n",
    "df_itol = df_sampleinfo.set_index('SampleName')\n",
    "for sname in df_itol.index:\n",
    "    print(sname)\n",
    "    hlthy2 = list(set(abun_data.columns.to_list()).intersection(set(healthy)))\n",
    "    abun_data['avg_old'] = abun_data[hlthy2].mean(axis=1)\n",
    "    abun_data['avg_young'] = abun_data[std_sample].mean(axis=1)\n",
    "    \n",
    "    fb_list, cat_class, quartile = [], [], []\n",
    "    for cat, cat_sample in [('healthy_young',std_sample),('healthy_old',hlthy2)]:\n",
    "        cat_fb = abun_data[cat_sample].T['p__Firmicutes']/abun_data[cat_sample].T['p__Bacteroidota'].to_list()\n",
    "        fb_list.extend(cat_fb)\n",
    "        cat_class.extend([cat]*len(cat_fb))\n",
    "    sample_f_by_b = abun_data[sname].T['p__Firmicutes']/abun_data[sname].T['p__Bacteroidota']\n",
    "    df_fb = pd.DataFrame(zip(fb_list,cat_class), columns=['f_by_b','class'])\n",
    "    figfile = os.path.join(input_dir, sname,'f_b_ratio_EN.jpg')\n",
    "    functions.box_plot(df_fb,sample_f_by_b,['Healthy young','Healthy old'],'Sample',figfile)\n",
    "    figfile = os.path.join(input_dir, sname,'f_b_ratio_DE.jpg')\n",
    "    functions.box_plot(df_fb,sample_f_by_b,['Gesund, jung','Gesund, alt'],'Probe',figfile)\n",
    "    # break\n",
    "\n"
   ]
  },
  {
   "cell_type": "markdown",
   "metadata": {},
   "source": [
    "## Rename genus"
   ]
  },
  {
   "cell_type": "code",
   "execution_count": 10,
   "metadata": {},
   "outputs": [],
   "source": [
    "rename_genus = {'LachnospiraceaeNK4A136group':'NK4A136 in Lachnospiraceae',\n",
    "                'ChristensenellaceaeR-7group':'R-7 in Christensenellaceae',\n",
    "                'NK4A214group':'NK4A214 in Ruminococcaceae',\n",
    "                'UCG-002':'UGC-002 in Ruminococcaceae',\n",
    "                'Eubacteriumeligensgroup':'Eubacterium-eligens-group',\n",
    "                'Eubacteriumsiraeumgroup':'Eubacterium-siraeum-group',\n",
    "                'PrevotellaceaeNK3B31group':'NK3B31 in Prevotellaceae',\n",
    "                'UCG-005':'UCG-005 in Ruminococcaceae',\n",
    "                'Eubacteriumhalliigroup':'Eubacterium-hallii-group',\n",
    "                'LachnospiraceaeND3007group':'ND3007 in Lachnospiraceae',\n",
    "                'Ruminococcusgnavusgroup':'Ruminococcus-gnavus-group',\n",
    "                'Bacteroides pectinophilus group':'Bacteroides-pectinophilus-group',\n",
    "                'Christensenellaceae R-7 group':'R-7 in Christensenellaceae ',\n",
    "                'Lachnospiraceae NK4A136 group':'NK4A214 in Ruminococcaceae',\n",
    "                'Rikenellaceae RC9 gut group':'Rikenellaceae-RC9-gut-group',\n",
    "                'unknown_ Clostridia UCG-014':'Clostridia UCG-014',\n",
    "                'unknown_ Clostridia vadinBB60 group':'Clostridia-vadinBB60-group',\n",
    "                'unknown_ Desulfovibrionaceae':'Taxon in Desulfovibrionaceae',\n",
    "                'unknown_ Eubacterium coprostanoligenes group':'Eubacterium-coprostanoligenes-group',\n",
    "                'unknown_ Gastranaerophilales':'Taxon in Gastranaerophilales',\n",
    "                'unknown_ Lachnospiraceae':'Taxon in  Lachnospiraceae',\n",
    "                'unknown_ Muribaculaceae':'Taxon in  Muribaculaceae',\n",
    "                'unknown_ Rhodospirillales':'Taxon in  Rhodospirillales',\n",
    "                'unknown_ Ruminococcaceae':'Taxon in Ruminococcaceae',\n",
    "                'Lachnospiraceae UCG-001':'UCG-001 in Lachnospiraceae',\n",
    "                'LachnospiraceaeUCG-001':'UCG-001 in Lachnospiraceae',\n",
    "                'UCG-003':'UCG-003 in Lachnospiraceae',\n",
    "                'Ruminococcustorquesgroup':'Ruminococcus torques group',\n",
    "                }"
   ]
  },
  {
   "cell_type": "markdown",
   "metadata": {},
   "source": [
    "## Genera barplot (Top 10)"
   ]
  },
  {
   "cell_type": "code",
   "execution_count": 11,
   "metadata": {},
   "outputs": [
    {
     "name": "stdout",
     "output_type": "stream",
     "text": [
      "305-5-16641\n",
      "304-4-78826\n",
      "302-2-89334\n",
      "306-6-83608\n",
      "301-1-59020\n"
     ]
    }
   ],
   "source": [
    "import functions\n",
    "\n",
    "abun_table = tax_genera\n",
    "abun_data = pd.read_table(abun_table, sep='\\t').set_index('Unnamed: 0')\n",
    "df_itol = df_sampleinfo.set_index('SampleName')\n",
    "colors17= ['#3eb489','#ff6ec7','#ffd12b','#03324a','#16621c','#5f2e4c','#f9584b','#596fff','#81dd4d','#e6b710','#ff8980','#00FFFD','#b5db52','#FF6900','#c90076','#2ffd51','#ff8933']\n",
    "\n",
    "# Unknown GOTUs\n",
    "if os.path.isfile(gotu_names):\n",
    "    df_gotu = pd.read_csv(gotu_names,sep='\\t',index_col='former_name')\n",
    "    gotu_dict = df_gotu.to_dict()['Genus']\n",
    "else:\n",
    "    gotu_dict = {}\n",
    "    \n",
    "for sname in df_itol.index:\n",
    "    # KORA-Healty\n",
    "    print(sname)\n",
    "    hlthy2 = list(set(abun_data.columns.to_list()).intersection(set(healthy)))\n",
    "    abun_data['avg_old'] = abun_data[hlthy2].mean(axis=1)\n",
    "    # Student\n",
    "    abun_data['avg_young'] = abun_data[std_sample].mean(axis=1)\n",
    "    \n",
    "    df_avg = abun_data[[sname,'avg_young','avg_old']]\n",
    "    # print(df_avg)\n",
    "    sample_top_genus = df_avg.nlargest(1,sname).index.to_list()[0].replace('g__','')\n",
    "    with open(os.path.join(input_dir,sname,'report_EN.txt'),'a') as fp_en, open(os.path.join(input_dir,sname,'report_DE.txt'),'a') as fp_de:\n",
    "        fp_en.write('topgenus:'+sample_top_genus+'\\n')\n",
    "        fp_de.write('topgenus:'+sample_top_genus+'\\n')\n",
    "    top_old = df_avg.nlargest(10,'avg_old').index.to_list()\n",
    "    top_young = df_avg.nlargest(10,'avg_young').index.to_list()\n",
    "    top_sample = df_avg.nlargest(10,sname).index.to_list()\n",
    "    top = set(top_old).union(set(top_young)).union(set(top_sample))\n",
    "    df_barplot = df_avg.loc[list(top)].sort_values('avg_young', ascending=False)\n",
    "    # df_barplot.loc['others'] = df_avg.loc[list(set(df_avg.index.to_list()).difference(top)),:].sum(axis='index').to_list()\n",
    "\n",
    "    df_barplot = df_barplot.T\n",
    "    # remove phylum tag from the names\n",
    "    df_barplot.columns = df_barplot.columns.str.replace(\"g__\", \"\")\n",
    "    # rename genus with preferred name\n",
    "    df_barplot = df_barplot.rename(columns=rename_genus)\n",
    "    df_barplot = df_barplot.reindex(sorted(df_barplot.columns), axis=1)\n",
    "    # print(df_barplot.T.sort_values(sname,axis=0))\n",
    "    df_barplot = df_barplot.T.sort_values(sname,axis=0,ascending=False).T\n",
    "    index_genera = df_barplot.columns.to_list() \n",
    "    df_barplot['Others'] = df_avg.loc[list(set(df_avg.index.to_list()).difference(top)),:].sum(axis='index').to_list()\n",
    "    # rename unknown genus with the names present in \"gotu_name.tab\"\n",
    "    df_barplot = df_barplot.rename(columns=gotu_dict)\n",
    "    # plt.subplots(figsize=(2, 10))\n",
    "    with open(os.path.join(input_dir, sname,'topGenera.pkl'), 'wb') as f:\n",
    "        pickle.dump(df_barplot.columns.to_list(), f)\n",
    "    figfile = os.path.join(input_dir, sname,'genera_EN.jpg')\n",
    "    functions.stacked_bar_genus(df_barplot,top,colors17,['Sample','Healthy young', 'Healthy old'],'Relative abundance (%)',figfile)\n",
    "    df_barplot = df_barplot.rename(columns={'Others':'Andere'})\n",
    "    figfile = os.path.join(input_dir, sname,'genera_DE.jpg')\n",
    "    functions.stacked_bar_genus(df_barplot,top,colors17,['Probe','Gesund, jung','Gesund, alt'],'Relative abundanz (%)',figfile)\n",
    "\n",
    "    # break\n",
    "\n"
   ]
  },
  {
   "cell_type": "markdown",
   "metadata": {},
   "source": [
    "# Write into PDF file"
   ]
  },
  {
   "cell_type": "code",
   "execution_count": 12,
   "metadata": {},
   "outputs": [
    {
     "name": "stderr",
     "output_type": "stream",
     "text": [
      "C:\\Users\\Aritra\\AppData\\Local\\Temp\\ipykernel_1016\\362285677.py:10: DeprecationWarning: Substituting font arial by core font helvetica - This is deprecated since v2.7.8, and will soon be removed\n",
      "  self.set_font('Arial', 'I', 8)\n",
      "C:\\Users\\Aritra\\AppData\\Local\\Temp\\ipykernel_1016\\362285677.py:14: DeprecationWarning: The parameter \"ln\" is deprecated since v2.5.2. Instead of ln=0 use new_x=XPos.RIGHT, new_y=YPos.TOP.\n",
      "  self.cell(0, 10, 'Order: '+str(self.ordernum)+' / Sample: '+str(self.samplename), 0, 0, 'R')\n",
      "C:\\Users\\Aritra\\AppData\\Local\\Temp\\ipykernel_1016\\362285677.py:10: DeprecationWarning: Substituting font arial by core font helvetica - This is deprecated since v2.7.8, and will soon be removed\n",
      "  self.set_font('Arial', 'I', 8)\n",
      "C:\\Users\\Aritra\\AppData\\Local\\Temp\\ipykernel_1016\\362285677.py:14: DeprecationWarning: The parameter \"ln\" is deprecated since v2.5.2. Instead of ln=0 use new_x=XPos.RIGHT, new_y=YPos.TOP.\n",
      "  self.cell(0, 10, 'Order: '+str(self.ordernum)+' / Sample: '+str(self.samplename), 0, 0, 'R')\n",
      "C:\\Users\\Aritra\\AppData\\Local\\Temp\\ipykernel_1016\\362285677.py:10: DeprecationWarning: Substituting font arial by core font helvetica - This is deprecated since v2.7.8, and will soon be removed\n",
      "  self.set_font('Arial', 'I', 8)\n",
      "C:\\Users\\Aritra\\AppData\\Local\\Temp\\ipykernel_1016\\362285677.py:14: DeprecationWarning: The parameter \"ln\" is deprecated since v2.5.2. Instead of ln=0 use new_x=XPos.RIGHT, new_y=YPos.TOP.\n",
      "  self.cell(0, 10, 'Order: '+str(self.ordernum)+' / Sample: '+str(self.samplename), 0, 0, 'R')\n",
      "C:\\Users\\Aritra\\AppData\\Local\\Temp\\ipykernel_1016\\362285677.py:10: DeprecationWarning: Substituting font arial by core font helvetica - This is deprecated since v2.7.8, and will soon be removed\n",
      "  self.set_font('Arial', 'I', 8)\n",
      "C:\\Users\\Aritra\\AppData\\Local\\Temp\\ipykernel_1016\\362285677.py:14: DeprecationWarning: The parameter \"ln\" is deprecated since v2.5.2. Instead of ln=0 use new_x=XPos.RIGHT, new_y=YPos.TOP.\n",
      "  self.cell(0, 10, 'Order: '+str(self.ordernum)+' / Sample: '+str(self.samplename), 0, 0, 'R')\n",
      "C:\\Users\\Aritra\\AppData\\Local\\Temp\\ipykernel_1016\\362285677.py:10: DeprecationWarning: Substituting font arial by core font helvetica - This is deprecated since v2.7.8, and will soon be removed\n",
      "  self.set_font('Arial', 'I', 8)\n",
      "C:\\Users\\Aritra\\AppData\\Local\\Temp\\ipykernel_1016\\362285677.py:14: DeprecationWarning: The parameter \"ln\" is deprecated since v2.5.2. Instead of ln=0 use new_x=XPos.RIGHT, new_y=YPos.TOP.\n",
      "  self.cell(0, 10, 'Order: '+str(self.ordernum)+' / Sample: '+str(self.samplename), 0, 0, 'R')\n",
      "C:\\Users\\Aritra\\AppData\\Local\\Temp\\ipykernel_1016\\362285677.py:10: DeprecationWarning: Substituting font arial by core font helvetica - This is deprecated since v2.7.8, and will soon be removed\n",
      "  self.set_font('Arial', 'I', 8)\n",
      "C:\\Users\\Aritra\\AppData\\Local\\Temp\\ipykernel_1016\\362285677.py:14: DeprecationWarning: The parameter \"ln\" is deprecated since v2.5.2. Instead of ln=0 use new_x=XPos.RIGHT, new_y=YPos.TOP.\n",
      "  self.cell(0, 10, 'Order: '+str(self.ordernum)+' / Sample: '+str(self.samplename), 0, 0, 'R')\n",
      "C:\\Users\\Aritra\\AppData\\Local\\Temp\\ipykernel_1016\\362285677.py:10: DeprecationWarning: Substituting font arial by core font helvetica - This is deprecated since v2.7.8, and will soon be removed\n",
      "  self.set_font('Arial', 'I', 8)\n",
      "C:\\Users\\Aritra\\AppData\\Local\\Temp\\ipykernel_1016\\362285677.py:14: DeprecationWarning: The parameter \"ln\" is deprecated since v2.5.2. Instead of ln=0 use new_x=XPos.RIGHT, new_y=YPos.TOP.\n",
      "  self.cell(0, 10, 'Order: '+str(self.ordernum)+' / Sample: '+str(self.samplename), 0, 0, 'R')\n",
      "C:\\Users\\Aritra\\AppData\\Local\\Temp\\ipykernel_1016\\362285677.py:10: DeprecationWarning: Substituting font arial by core font helvetica - This is deprecated since v2.7.8, and will soon be removed\n",
      "  self.set_font('Arial', 'I', 8)\n",
      "C:\\Users\\Aritra\\AppData\\Local\\Temp\\ipykernel_1016\\362285677.py:14: DeprecationWarning: The parameter \"ln\" is deprecated since v2.5.2. Instead of ln=0 use new_x=XPos.RIGHT, new_y=YPos.TOP.\n",
      "  self.cell(0, 10, 'Order: '+str(self.ordernum)+' / Sample: '+str(self.samplename), 0, 0, 'R')\n",
      "C:\\Users\\Aritra\\AppData\\Local\\Temp\\ipykernel_1016\\362285677.py:10: DeprecationWarning: Substituting font arial by core font helvetica - This is deprecated since v2.7.8, and will soon be removed\n",
      "  self.set_font('Arial', 'I', 8)\n",
      "C:\\Users\\Aritra\\AppData\\Local\\Temp\\ipykernel_1016\\362285677.py:14: DeprecationWarning: The parameter \"ln\" is deprecated since v2.5.2. Instead of ln=0 use new_x=XPos.RIGHT, new_y=YPos.TOP.\n",
      "  self.cell(0, 10, 'Order: '+str(self.ordernum)+' / Sample: '+str(self.samplename), 0, 0, 'R')\n",
      "C:\\Users\\Aritra\\AppData\\Local\\Temp\\ipykernel_1016\\362285677.py:10: DeprecationWarning: Substituting font arial by core font helvetica - This is deprecated since v2.7.8, and will soon be removed\n",
      "  self.set_font('Arial', 'I', 8)\n",
      "C:\\Users\\Aritra\\AppData\\Local\\Temp\\ipykernel_1016\\362285677.py:14: DeprecationWarning: The parameter \"ln\" is deprecated since v2.5.2. Instead of ln=0 use new_x=XPos.RIGHT, new_y=YPos.TOP.\n",
      "  self.cell(0, 10, 'Order: '+str(self.ordernum)+' / Sample: '+str(self.samplename), 0, 0, 'R')\n"
     ]
    }
   ],
   "source": [
    "class PDF(FPDF):\n",
    "    def __init__(self, ordernum,samplename):\n",
    "        super(PDF, self).__init__()\n",
    "        self.ordernum = ordernum\n",
    "        self.samplename = samplename\n",
    "    def footer(self):\n",
    "        # Go to 1.5 cm from bottom\n",
    "        self.set_y(-20)\n",
    "        # Select Arial italic 8\n",
    "        self.set_font('Arial', 'I', 8)\n",
    "        # Text color in gray\n",
    "        self.set_text_color(128)\n",
    "        # Print right order-number\n",
    "        self.cell(0, 10, 'Order: '+str(self.ordernum)+' / Sample: '+str(self.samplename), 0, 0, 'R')\n",
    "\n",
    "\n",
    "today = date.today()\n",
    "analysis_date = today.strftime(\"%d.%m.%Y\")\n",
    "missingGenera = []\n",
    "sample_dir = input_dir\n",
    "for idx in df_sampleinfo.index:\n",
    "    #---------------------#\n",
    "    #-- English Version --#\n",
    "    #---------------------#\n",
    "    pdf = PDF(df_sampleinfo.loc[idx,'OrderNumber'],df_sampleinfo.loc[idx,'SampleName'])\n",
    "    pdf.alias_nb_pages()\n",
    "    pdf.add_page()\n",
    "    pdf.set_margins(left=20,right=20,top=10)\n",
    "    # Add title\n",
    "    pdf.set_font('Helvetica', 'B', 16)\n",
    "    # Title\n",
    "    pdf.cell(170, 10, 'Microbiome Analysis for Sample '+str(df_sampleinfo.loc[idx,'Screening-ID']), border =0, align='C')\n",
    "    pdf.ln(9)\n",
    "    # Sample description\n",
    "    pdf.set_font('Helvetica', '', 11)\n",
    "    pdf.rect(19,20,172,14)\n",
    "    pdf.cell(70, 10, 'Age (on collection date): '+ str(df_sampleinfo.loc[idx,'Age']), align='L', border=0)\n",
    "    try:\n",
    "        collect_date = str(datetime.strptime(df_sampleinfo.loc[idx,'SamplingDate'], '%d.%m.%y').date().strftime('%d.%m.%Y'))\n",
    "    except ValueError:\n",
    "        collect_date = df_sampleinfo.loc[idx,'SamplingDate']\n",
    "    pdf.cell(100, 10, 'Collection date: '+ collect_date, align='R', border=0)\n",
    "    pdf.ln(6)\n",
    "    pdf.cell(70, 10, 'Sample type: '+df_sampleinfo.loc[idx,'SampleType'].capitalize(), align='L', border=0)\n",
    "    pdf.cell(100, 10, 'Analysis date: '+ str(analysis_date), align='R', border=0)\n",
    "    pdf.ln(11)\n",
    "\n",
    "    # Alpha diversity: Boxplot\n",
    "    pdf.set_font('Helvetica', 'B', 11)\n",
    "    pdf.rect(19,37,101,40)\n",
    "    pdf.cell(99, 10, 'Richness analysis', align='L', border=0)\n",
    "    pdf.image(os.path.join(input_dir,df_sampleinfo.loc[idx,'SampleName'],'alpha-diversity_EN.jpg'), x=22, y=44, w=96)\n",
    "    # Conclusion\n",
    "    conclu_dict = {}\n",
    "    sname = df_sampleinfo.loc[idx,'SampleName']\n",
    "    with open(os.path.join(input_dir,sname,'report_EN.txt'),'r') as fp:\n",
    "        lines = fp.readlines()\n",
    "        for line in lines:\n",
    "            conclu_dict.update({line.strip().split(':')[0]:line.strip().split(':')[1]})\n",
    "    pdf.rect(123,37,68,40)\n",
    "    pdf.cell(5)\n",
    "    pdf.cell(66, 10, 'Conclusion', align='L', border=0)\n",
    "    pdf.set_font('Helvetica', '', 9)\n",
    "    pdf.ln(10)\n",
    "    pdf.cell(105)\n",
    "    if isinstance(df_sampleinfo.loc[idx,'Age'],str):\n",
    "        pdf.multi_cell(w=64,text='Number of taxa: '+conclu_dict['std']+' of the \"Healthy young\" cohort (age < 40)',align='J') \n",
    "    else:\n",
    "        if df_sampleinfo.loc[idx,'Age'] < 40 or isinstance(df_sampleinfo.loc[idx,'Age'],str):\n",
    "            pdf.multi_cell(w=64,text='Number of taxa: '+conclu_dict['std']+' of the \"Healthy young\" cohort (age < 40)',align='J') \n",
    "        else:\n",
    "            pdf.multi_cell(w=64,text='Number of taxa: '+conclu_dict['healthy']+' of the \"Healthy old\" cohort (age > 40)',align='J')\n",
    "    pdf.ln(3)\n",
    "    pdf.cell(105)\n",
    "    x, y = pdf.x, pdf.y\n",
    "    pdf.multi_cell(w=64,\n",
    "                   text='The sample is in Cluster '+conclu_dict['cluster']+' (typical for ~'+conclu_dict['percentage']+'% of persons), distinguished by __'+conclu_dict['distinguish']+'__',\n",
    "                   align='J', markdown=True)\n",
    "    \n",
    "    pdf.ln(3)\n",
    "    pdf.cell(105)\n",
    "    x, y = pdf.x, pdf.y\n",
    "    pdf.multi_cell(w=45,text='Most abundant genus is __'+conclu_dict['topgenus']+'__',align='J',markdown=True)\n",
    "    pdf.set_font('Helvetica', 'B', 11)\n",
    "    # pdf.ln(5)\n",
    "    \n",
    "    # Tree: Phylum\n",
    "    pdf.rect(19,80,101,100)\n",
    "    pdf.set_xy(20,79)\n",
    "    pdf.cell(99, 10, 'Reference: Healthy young and old population', align='L', border=0)\n",
    "    im = Image.open(os.path.join(input_dir,df_sampleinfo.loc[idx,'SampleName'],'sampletree.png'))\n",
    "    if im.size[0]/im.size[1] < 1:\n",
    "        pdf.image(os.path.join(input_dir,df_sampleinfo.loc[idx,'SampleName'],'sampletree.png'), x=29, y= 90, h=87)\n",
    "    else:\n",
    "        pdf.image(os.path.join(input_dir,df_sampleinfo.loc[idx,'SampleName'],'sampletree.png'), x=29, y= 90, w=87)\n",
    "    pdf.image(os.path.join(ref_db,'clade_legend_EN.png'), x=20, y= 161, w=15)\n",
    "    # Phylum barplot\n",
    "    pdf.rect(123,80,68,100)\n",
    "    pdf.cell(5)\n",
    "    pdf.cell(66, 10, 'Phylum analysis', align='L', border=0)\n",
    "    pdf.image(os.path.join(input_dir,df_sampleinfo.loc[idx,'SampleName'],'phylum_EN.jpg'), x=128, y= 90, h=89)\n",
    "    pdf.image(os.path.join(input_dir,df_sampleinfo.loc[idx,'SampleName'],'f_b_ratio_EN.jpg'), x=159, y= 124, h=55)\n",
    "    pdf.ln(103)\n",
    "\n",
    "    # Top 10 genera\n",
    "    pdf.rect(19,183,172,94)\n",
    "    pdf.cell(169, 10, 'Genus analysis (Top 10 genera)', align='L', border=0)\n",
    "    pdf.image(os.path.join(input_dir,df_sampleinfo.loc[idx,'SampleName'],'genera_EN.jpg'), x=22, y= 191, h=85)\n",
    "\n",
    "    # Table with genus function\n",
    "    df_func = pd.read_csv(ref_func,sep='\\t',encoding = \"utf16\").set_index('Genus')\n",
    "    df_func = df_func[['Function']]\n",
    "    with open(os.path.join(input_dir,df_sampleinfo.loc[idx,'SampleName'],'topGenera.pkl'),'rb') as f: topGenera = pickle.load(f)        \n",
    "    commonGenera = [g for g in topGenera if g in df_func.index.to_list()]\n",
    "    commonGenera.reverse()\n",
    "    missingGenera.extend([g for g in topGenera if not g in df_func.index.to_list()])\n",
    "    df_func = df_func.loc[commonGenera,:].reset_index().map(str)\n",
    "    data = [list(df_func)] + df_func.values.tolist()  # Combine columns and rows in one list\n",
    "    pdf.ln(6)\n",
    "    headings_style = FontFace(emphasis=\"BOLD\",fill_color=(200, 200, 200))\n",
    "    pdf.set_font('Helvetica', '', 7)\n",
    "    with pdf.table(width=101, col_widths=(25,76), align='R', first_row_as_headings=True,headings_style=headings_style,line_height=1.1 * pdf.font_size) as table:\n",
    "        INDEX_OF_COLUMN_IN_ITALICS = 0\n",
    "        ITALICS = FontFace(emphasis=\"ITALICS\")\n",
    "        header = True\n",
    "        for data_row in data:\n",
    "            row = table.row()\n",
    "            for i, datum in enumerate(data_row):\n",
    "                row.cell(datum, style=ITALICS if not header and i == INDEX_OF_COLUMN_IN_ITALICS else None)\n",
    "                header = False\n",
    "\n",
    "    #----------------------#\n",
    "    #--  German Version  --#\n",
    "    #----------------------#\n",
    "    pdf.add_page()\n",
    "    pdf.set_margins(left=20,right=20,top=10)\n",
    "    # Add title\n",
    "    pdf.set_font('Helvetica', 'B', 16)\n",
    "    # Title\n",
    "    pdf.cell(170, 10, 'Mikrobiom Analyse für Probe '+str(df_sampleinfo.loc[idx,'Screening-ID']), border =0, align='C')\n",
    "    pdf.ln(9)\n",
    "    # Sample description\n",
    "    pdf.set_font('Helvetica', '', 11)\n",
    "    pdf.rect(19,20,172,14)\n",
    "    pdf.cell(70, 10, 'Alter (am Sammeltag): '+ str(df_sampleinfo.loc[idx,'Age']), align='L', border=0)\n",
    "    pdf.cell(100, 10, 'Sammeldatum: '+ collect_date, align='R', border=0)\n",
    "    pdf.ln(6)\n",
    "    sample_type = 'Stuhl' if df_sampleinfo.loc[idx,'SampleType'].lower()=='stool' else 'Unknown'\n",
    "    pdf.cell(70, 10, 'Probentyp: '+sample_type, align='L', border=0)\n",
    "    pdf.cell(100, 10, 'Analysendatum: '+ str(analysis_date), align='R', border=0)\n",
    "    pdf.ln(11)\n",
    "\n",
    "    # Alpha diversity: Boxplot\n",
    "    pdf.set_font('Helvetica', 'B', 11)\n",
    "    pdf.rect(19,37,101,40)\n",
    "    pdf.cell(99, 10, 'Analyse des Artenreichtums', align='L', border=0)\n",
    "    pdf.image(os.path.join(input_dir,df_sampleinfo.loc[idx,'SampleName'],'alpha-diversity_DE.jpg'), x=22, y=44, w=96)\n",
    "    # Conclusion\n",
    "    conclu_dict = {}\n",
    "    sname = df_sampleinfo.loc[idx,'SampleName']\n",
    "    with open(os.path.join(input_dir,sname,'report_DE.txt'),'r') as fp:\n",
    "        lines = fp.readlines()\n",
    "        for line in lines:\n",
    "            conclu_dict.update({line.strip().split(':')[0]:line.strip().split(':')[1]})\n",
    "    pdf.rect(123,37,68,40)\n",
    "    pdf.cell(5)\n",
    "    pdf.cell(66, 10, 'Zusammenfassung', align='L', border=0)\n",
    "    pdf.set_font('Helvetica', '', 9)\n",
    "    pdf.ln(10)\n",
    "    pdf.cell(105)\n",
    "    if isinstance(df_sampleinfo.loc[idx,'Age'],str):\n",
    "        pdf.multi_cell(w=64,text='Anzahl der Taxa: '+conclu_dict['std']+' der Kohorte \"Gesund, jung\" (Alter < 40)',align='J') \n",
    "    else:\n",
    "        if df_sampleinfo.loc[idx,'Age'] < 40 :\n",
    "            pdf.multi_cell(w=64,text='Anzahl der Taxa: '+conclu_dict['std']+' der Kohorte \"Gesund, jung\" (Alter < 40)',align='J') \n",
    "        else:\n",
    "            pdf.multi_cell(w=64,text='Anzahl der Taxa: '+conclu_dict['healthy']+' der Kohorte \"Gesund, alt\" (Alter > 40)',align='J')\n",
    "    pdf.ln(3)\n",
    "    pdf.cell(105)\n",
    "    x, y = pdf.x, pdf.y\n",
    "    pdf.multi_cell(w=64,\n",
    "                   text='Die Probe fällt in Cluster '+conclu_dict['cluster']+' (typisch für ~'+conclu_dict['percentage']+'% der Personen), gekennzeichnet durch __'+conclu_dict['distinguish']+'__',\n",
    "                   align='J', markdown=True)\n",
    "    pdf.ln(3)\n",
    "    pdf.cell(105)\n",
    "    pdf.multi_cell(w=45,text='Die häufigste Gattung ist __'+conclu_dict['topgenus']+'__',align='J',markdown=True)\n",
    "    pdf.set_font('Helvetica', 'B', 11)\n",
    "    \n",
    "    # Tree: Phylum\n",
    "    pdf.rect(19,80,101,100)\n",
    "    pdf.set_xy(20,79)\n",
    "    pdf.cell(99, 10, 'Referenz: Gesunde, junge und alte Menschen', align='L', border=0)\n",
    "    im = Image.open(os.path.join(input_dir,df_sampleinfo.loc[idx,'SampleName'],'sampletree.png'))\n",
    "    if im.size[0]/im.size[1] < 1:\n",
    "        pdf.image(os.path.join(input_dir,df_sampleinfo.loc[idx,'SampleName'],'sampletree.png'), x=29, y= 90, h=87)\n",
    "    else:\n",
    "        pdf.image(os.path.join(input_dir,df_sampleinfo.loc[idx,'SampleName'],'sampletree.png'), x=29, y= 90, w=87)\n",
    "    pdf.image(os.path.join(ref_db,'clade_legend_DE.png'), x=20, y= 161, w=15)\n",
    "    # Phylum barplot\n",
    "    pdf.rect(123,80,68,100)\n",
    "    pdf.cell(5)\n",
    "    pdf.cell(66, 10, 'Analyse der Stämme', align='L', border=0)\n",
    "    pdf.image(os.path.join(input_dir,df_sampleinfo.loc[idx,'SampleName'],'phylum_DE.jpg'), x=128, y= 90, h=89)\n",
    "    pdf.image(os.path.join(input_dir,df_sampleinfo.loc[idx,'SampleName'],'f_b_ratio_DE.jpg'), x=159, y= 124, h=55)\n",
    "    pdf.ln(103)\n",
    "\n",
    "    # Top 10 genera\n",
    "    pdf.rect(19,183,172,94)\n",
    "    pdf.cell(169, 10, 'Analyse der Gattungen (Obere 10)', align='L', border=0)\n",
    "    pdf.image(os.path.join(input_dir,df_sampleinfo.loc[idx,'SampleName'],'genera_DE.jpg'), x=22, y= 191, h=85)\n",
    "\n",
    "    # Table with genus function\n",
    "    df_func = pd.read_csv(ref_func,sep='\\t',encoding = \"utf16\").rename(columns={'Genus':'Gattung'}).set_index('Gattung')\n",
    "    df_func = df_func[['Funktion']]\n",
    "    with open(os.path.join(input_dir,df_sampleinfo.loc[idx,'SampleName'],'topGenera.pkl'),'rb') as f: topGenera = pickle.load(f)        \n",
    "    commonGenera = [g for g in topGenera if g in df_func.index.to_list()]\n",
    "    commonGenera.reverse()\n",
    "    missingGenera.extend([g for g in topGenera if not g in df_func.index.to_list()])\n",
    "    df_func = df_func.loc[commonGenera,:].reset_index().map(str)\n",
    "    data = [list(df_func)] + df_func.values.tolist()  # Combine columns and rows in one list\n",
    "    pdf.ln(6)\n",
    "    headings_style = FontFace(emphasis=\"BOLD\",fill_color=(200, 200, 200))\n",
    "    pdf.set_font('Helvetica', '', 7)\n",
    "    with pdf.table(width=101, col_widths=(25,76), align='R', first_row_as_headings=True,headings_style=headings_style,line_height=1.1 * pdf.font_size) as table:\n",
    "        INDEX_OF_COLUMN_IN_ITALICS = 0\n",
    "        ITALICS = FontFace(emphasis=\"ITALICS\")\n",
    "        header = True\n",
    "        for data_row in data:\n",
    "            row = table.row()\n",
    "            for i, datum in enumerate(data_row):\n",
    "                row.cell(datum, style=ITALICS if not header and i == INDEX_OF_COLUMN_IN_ITALICS else None)\n",
    "                header = False\n",
    "    \n",
    "    if not os.path.exists(os.path.join(input_dir,'pdf')): os.mkdir(os.path.join(input_dir,'pdf'))\n",
    "    pdf.output(os.path.join(input_dir,'pdf',str(df_sampleinfo.loc[idx,'Screening-ID'])+'.pdf'))"
   ]
  },
  {
   "cell_type": "markdown",
   "metadata": {},
   "source": [
    "# Show missing Genera"
   ]
  },
  {
   "cell_type": "code",
   "execution_count": 13,
   "metadata": {},
   "outputs": [
    {
     "name": "stdout",
     "output_type": "stream",
     "text": [
      "{'Others'}\n"
     ]
    }
   ],
   "source": [
    "print(set(missingGenera))"
   ]
  },
  {
   "cell_type": "code",
   "execution_count": null,
   "metadata": {},
   "outputs": [],
   "source": []
  }
 ],
 "metadata": {
  "kernelspec": {
   "display_name": "indi_report",
   "language": "python",
   "name": "indi_report"
  },
  "language_info": {
   "codemirror_mode": {
    "name": "ipython",
    "version": 3
   },
   "file_extension": ".py",
   "mimetype": "text/x-python",
   "name": "python",
   "nbconvert_exporter": "python",
   "pygments_lexer": "ipython3",
   "version": "3.9.19"
  }
 },
 "nbformat": 4,
 "nbformat_minor": 2
}
